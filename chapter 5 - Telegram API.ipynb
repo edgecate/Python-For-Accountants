{
 "cells": [
  {
   "cell_type": "code",
   "execution_count": null,
   "id": "334e78b3",
   "metadata": {},
   "outputs": [],
   "source": [
    "import requests as rq\n",
    "import yfinance as yf\n",
    "import time\n",
    "\n",
    "token = 'YOUR_TOKEN_ID'\n",
    "channel_id = 'YOUR_CHANNEL_ID'\n",
    "\n",
    "while(True):\n",
    "    msft = yf.Ticker(\"MSFT\").info['currentPrice']\n",
    "    print(msft)\n",
    "    if(msft) >= 300:\n",
    "        msg = f'Microsoft Price is: {msft}'\n",
    "        url = f'''https://api.telegram.org/bot{token}/sendMessage?chat_id={channel_id}&text={msg}'''\n",
    "        rq.get(url)\n",
    "    time.sleep(5)"
   ]
  }
 ],
 "metadata": {
  "kernelspec": {
   "display_name": "Python 3 (ipykernel)",
   "language": "python",
   "name": "python3"
  },
  "language_info": {
   "codemirror_mode": {
    "name": "ipython",
    "version": 3
   },
   "file_extension": ".py",
   "mimetype": "text/x-python",
   "name": "python",
   "nbconvert_exporter": "python",
   "pygments_lexer": "ipython3",
   "version": "3.10.0"
  }
 },
 "nbformat": 4,
 "nbformat_minor": 5
}
