{
 "cells": [
  {
   "cell_type": "code",
   "execution_count": 1,
   "id": "f5429e42",
   "metadata": {},
   "outputs": [
    {
     "data": {
      "text/plain": [
       "'38453.85000000'"
      ]
     },
     "execution_count": 1,
     "metadata": {},
     "output_type": "execute_result"
    }
   ],
   "source": [
    "import requests as rq\n",
    "import json\n",
    "\n",
    "url = 'https://api.binance.com/api/v3/ticker/price?symbol=BTCUSDT'\n",
    "\n",
    "binance_data = rq.get(url).text\n",
    "binance_data\n",
    "\n",
    "btc_data = json.loads(binance_data)\n",
    "\n",
    "btc_data['price']"
   ]
  }
 ],
 "metadata": {
  "kernelspec": {
   "display_name": "Python 3 (ipykernel)",
   "language": "python",
   "name": "python3"
  },
  "language_info": {
   "codemirror_mode": {
    "name": "ipython",
    "version": 3
   },
   "file_extension": ".py",
   "mimetype": "text/x-python",
   "name": "python",
   "nbconvert_exporter": "python",
   "pygments_lexer": "ipython3",
   "version": "3.10.0"
  }
 },
 "nbformat": 4,
 "nbformat_minor": 5
}
